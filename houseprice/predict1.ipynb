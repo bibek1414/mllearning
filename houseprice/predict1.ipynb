{
 "cells": [
  {
   "cell_type": "code",
   "execution_count": 2,
   "id": "cd3db78e",
   "metadata": {},
   "outputs": [
    {
     "name": "stdout",
     "output_type": "stream",
     "text": [
      "Predicted Price Change: 0.87%\n"
     ]
    }
   ],
   "source": [
    "import pandas as pd\n",
    "import joblib\n",
    "\n",
    "# Load model\n",
    "model = joblib.load('house_price_model1.pkl')\n",
    "\n",
    "# Example input (MUST include ALL columns used in training)\n",
    "new_house = pd.DataFrame({\n",
    "    'RegionID': [394856],        # Required (e.g., Miami's ID)\n",
    "    'RegionName': ['Miami, FL'], # Required\n",
    "    'RegionType': ['msa'],       # Required\n",
    "    'StateName': ['FL'],         # Required\n",
    "    'BaseDate': ['2025-02-28'],  # Required\n",
    "    '2025-03-31': [0.0],         # Required (value from your data)\n",
    "    '2025-05-31': [0.3],         # Required (value from your data)\n",
    "    '2026-02-28': [2.3]          # Required (value from your data)\n",
    "})\n",
    "\n",
    "# Predict\n",
    "predicted_price = model.predict(new_house)\n",
    "print(f\"Predicted Price Change: {predicted_price[0]:.2f}%\")  # Adjust if target isn't %"
   ]
  }
 ],
 "metadata": {
  "kernelspec": {
   "display_name": ".venv",
   "language": "python",
   "name": "python3"
  },
  "language_info": {
   "codemirror_mode": {
    "name": "ipython",
    "version": 3
   },
   "file_extension": ".py",
   "mimetype": "text/x-python",
   "name": "python",
   "nbconvert_exporter": "python",
   "pygments_lexer": "ipython3",
   "version": "3.12.3"
  }
 },
 "nbformat": 4,
 "nbformat_minor": 5
}
