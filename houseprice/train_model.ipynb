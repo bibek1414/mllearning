{
 "cells": [
  {
   "cell_type": "code",
   "execution_count": 1,
   "id": "142725c3",
   "metadata": {},
   "outputs": [
    {
     "name": "stdout",
     "output_type": "stream",
     "text": [
      "R² Score: -0.05\n",
      "RMSE: $1.51\n",
      "Model saved as 'house_price_model1.pkl'\n"
     ]
    }
   ],
   "source": [
    "import pandas as pd\n",
    "import numpy as np\n",
    "from sklearn.model_selection import train_test_split\n",
    "from sklearn.ensemble import RandomForestRegressor\n",
    "from sklearn.preprocessing import StandardScaler, OneHotEncoder\n",
    "from sklearn.compose import ColumnTransformer\n",
    "from sklearn.pipeline import Pipeline\n",
    "from sklearn.metrics import mean_squared_error, r2_score\n",
    "from sklearn.impute import SimpleImputer\n",
    "import joblib\n",
    "\n",
    "# Load data\n",
    "df = pd.read_csv('house_data.csv')\n",
    "\n",
    "# Drop irrelevant columns (adjust based on your data)\n",
    "df = df.drop(columns=['SizeRank', 'RegionType', 'StateName'], errors='ignore')\n",
    "\n",
    "# If date columns exist, melt into long format\n",
    "date_columns = [col for col in df.columns if any(str(year) in col for year in range(2000, 2030))]\n",
    "if date_columns:\n",
    "    id_vars = [col for col in df.columns if col not in date_columns]\n",
    "    df = pd.melt(df, id_vars=id_vars, value_vars=date_columns, var_name='Date', value_name='Price')\n",
    "    df['Date'] = pd.to_datetime(df['Date'])\n",
    "    df['Year'] = df['Date'].dt.year\n",
    "    df['Month'] = df['Date'].dt.month\n",
    "\n",
    "# Define features and target\n",
    "target = 'Price' if 'Price' in df.columns else df.columns[-1]\n",
    "X = df.drop(columns=[target])\n",
    "y = df[target]\n",
    "\n",
    "# Split data\n",
    "X_train, X_test, y_train, y_test = train_test_split(X, y, test_size=0.2, random_state=42)\n",
    "\n",
    "# Preprocessing\n",
    "numeric_features = X.select_dtypes(include=['int64', 'float64']).columns\n",
    "categorical_features = X.select_dtypes(include=['object']).columns\n",
    "\n",
    "preprocessor = ColumnTransformer(\n",
    "    transformers=[\n",
    "        ('num', Pipeline([\n",
    "            ('imputer', SimpleImputer(strategy='median')),\n",
    "            ('scaler', StandardScaler())\n",
    "        ]), numeric_features),\n",
    "        ('cat', Pipeline([\n",
    "            ('imputer', SimpleImputer(strategy='most_frequent')),\n",
    "            ('onehot', OneHotEncoder(handle_unknown='ignore'))\n",
    "        ]), categorical_features)\n",
    "])\n",
    "\n",
    "# Train model\n",
    "model = Pipeline([\n",
    "    ('preprocessor', preprocessor),\n",
    "    ('regressor', RandomForestRegressor(n_estimators=100, random_state=42))\n",
    "])\n",
    "\n",
    "model.fit(X_train, y_train)\n",
    "\n",
    "# Evaluate\n",
    "y_pred = model.predict(X_test)\n",
    "print(f\"R² Score: {r2_score(y_test, y_pred):.2f}\")\n",
    "print(f\"RMSE: ${np.sqrt(mean_squared_error(y_test, y_pred)):,.2f}\")\n",
    "\n",
    "# Save model\n",
    "joblib.dump(model, 'house_price_model1.pkl')\n",
    "print(\"Model saved as 'house_price_model1.pkl'\")"
   ]
  }
 ],
 "metadata": {
  "kernelspec": {
   "display_name": ".venv",
   "language": "python",
   "name": "python3"
  },
  "language_info": {
   "codemirror_mode": {
    "name": "ipython",
    "version": 3
   },
   "file_extension": ".py",
   "mimetype": "text/x-python",
   "name": "python",
   "nbconvert_exporter": "python",
   "pygments_lexer": "ipython3",
   "version": "3.12.3"
  }
 },
 "nbformat": 4,
 "nbformat_minor": 5
}
