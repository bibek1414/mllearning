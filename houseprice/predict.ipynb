{
 "cells": [
  {
   "cell_type": "code",
   "execution_count": 1,
   "id": "894e273d",
   "metadata": {},
   "outputs": [
    {
     "name": "stdout",
     "output_type": "stream",
     "text": [
      "Predicted price: $-158,610.08\n"
     ]
    }
   ],
   "source": [
    "import pandas as pd\n",
    "import joblib\n",
    "\n",
    "# Load the model\n",
    "model = joblib.load('best_house_price_model.pkl')\n",
    "\n",
    "# Create data for a new house with ALL required columns\n",
    "new_house = pd.DataFrame({\n",
    "    'RegionName': ['Miami, FL'],\n",
    "    'RegionType': ['City'],  # Added missing column\n",
    "    'StateName': ['Florida'],  # Added missing column\n",
    "    'SizeRank': [100],  # Added missing column\n",
    "    '2025-03-31': [350000],  # Added missing date column\n",
    "    '2025-05-31': [360000],  # Added missing date column\n",
    "    'bedrooms': [3],\n",
    "    'bathrooms': [2],\n",
    "    # Add any other columns that were in your training data\n",
    "})\n",
    "\n",
    "# Get the prediction\n",
    "predicted_price = model.predict(new_house)\n",
    "print(f\"Predicted price: ${predicted_price[0]:,.2f}\")"
   ]
  }
 ],
 "metadata": {
  "kernelspec": {
   "display_name": ".venv",
   "language": "python",
   "name": "python3"
  },
  "language_info": {
   "codemirror_mode": {
    "name": "ipython",
    "version": 3
   },
   "file_extension": ".py",
   "mimetype": "text/x-python",
   "name": "python",
   "nbconvert_exporter": "python",
   "pygments_lexer": "ipython3",
   "version": "3.12.3"
  }
 },
 "nbformat": 4,
 "nbformat_minor": 5
}
