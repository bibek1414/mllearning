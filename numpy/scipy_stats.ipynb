{
 "cells": [
  {
   "cell_type": "code",
   "execution_count": 3,
   "metadata": {},
   "outputs": [
    {
     "name": "stdout",
     "output_type": "stream",
     "text": [
      "[-0.12222899  0.2643069  -1.35196637 -1.25305493  0.19906989]\n"
     ]
    }
   ],
   "source": [
    "from scipy.stats import norm\n",
    "\n",
    "# Generate 5 random numbers from a standard normal distribution\n",
    "random_values = norm.rvs(size=5)\n",
    "print(random_values)\n"
   ]
  },
  {
   "cell_type": "code",
   "execution_count": 5,
   "metadata": {},
   "outputs": [
    {
     "name": "stdout",
     "output_type": "stream",
     "text": [
      "DescribeResult(nobs=5, minmax=(np.int64(2), np.int64(10)), mean=np.float64(6.0), variance=np.float64(10.0), skewness=np.float64(0.0), kurtosis=np.float64(-1.3))\n"
     ]
    }
   ],
   "source": [
    "from scipy.stats import describe\n",
    "data = [2, 4, 6, 8, 10]\n",
    "\n",
    "# Get descriptive statistics\n",
    "stats = describe(data)\n",
    "print(stats)  # Outputs mean, variance, min, max, etc.\n"
   ]
  },
  {
   "cell_type": "code",
   "execution_count": 7,
   "metadata": {},
   "outputs": [
    {
     "name": "stdout",
     "output_type": "stream",
     "text": [
      "T-Statistic: 0.5, P-Value: 0.6305360755569764\n"
     ]
    }
   ],
   "source": [
    "from scipy.stats import ttest_ind\n",
    "\n",
    "group1 = [2, 4, 6, 8, 10]\n",
    "group2 = [1, 3, 5, 7, 9]\n",
    "\n",
    "t_stat, p_value = ttest_ind(group1, group2)\n",
    "print(f\"T-Statistic: {t_stat}, P-Value: {p_value}\")\n"
   ]
  },
  {
   "cell_type": "code",
   "execution_count": null,
   "metadata": {},
   "outputs": [
    {
     "name": "stdout",
     "output_type": "stream",
     "text": [
      "Chi-Square Statistic: 5.0, P-Value: 0.0820849986238988\n"
     ]
    }
   ],
   "source": [
    "from scipy.stats import chisquare\n",
    "\n",
    "observed = [50, 30, 20]  # Observed frequency counts\n",
    "expected = [40, 40, 20]  # Expected counts\n",
    "\n",
    "chi_stat, p_value = chisquare(observed, expected)\n",
    "print(f\"Chi-Square Statistic: {chi_stat}, P-Value: {p_value}\")\n"
   ]
  }
 ],
 "metadata": {
  "kernelspec": {
   "display_name": ".venv",
   "language": "python",
   "name": "python3"
  },
  "language_info": {
   "codemirror_mode": {
    "name": "ipython",
    "version": 3
   },
   "file_extension": ".py",
   "mimetype": "text/x-python",
   "name": "python",
   "nbconvert_exporter": "python",
   "pygments_lexer": "ipython3",
   "version": "3.12.3"
  }
 },
 "nbformat": 4,
 "nbformat_minor": 2
}
