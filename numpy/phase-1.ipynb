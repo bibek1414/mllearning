{
 "cells": [
  {
   "cell_type": "markdown",
   "metadata": {},
   "source": [
    "##Array 1D and 2D "
   ]
  },
  {
   "cell_type": "code",
   "execution_count": 9,
   "metadata": {},
   "outputs": [
    {
     "name": "stdout",
     "output_type": "stream",
     "text": [
      "[1 2 3 4 5]\n",
      "[[1 2 3]\n",
      " [2 3 4]]\n"
     ]
    }
   ],
   "source": [
    "import numpy as np\n",
    "\n",
    "array_1d = np.array([1,2,3,4,5])\n",
    "print(array_1d)\n",
    "\n",
    "array_2d = np.array([[1,2,3,],[2,3,4]])\n",
    "print(array_2d)"
   ]
  },
  {
   "cell_type": "markdown",
   "metadata": {},
   "source": [
    "### list vs numpy array "
   ]
  },
  {
   "cell_type": "code",
   "execution_count": 10,
   "metadata": {},
   "outputs": [
    {
     "name": "stdout",
     "output_type": "stream",
     "text": [
      "Numpy array 1D multiplied by 2: [100000000000 200000000000 300000000000 400000000000 500000000000]\n",
      "Numpy array 2D multiplied by 2: [[1000000000000 2000000000000 3000000000000]\n",
      " [2000000000000 3000000000000 4000000000000]]\n",
      "Time taken for numpy array multiplication: 0.00020813941955566406\n",
      "Python list 1D multiplied by 2: [1000000000000, 2000000000000, 3000000000000, 4000000000000, 5000000000000]\n",
      "Python list 2D multiplied by 2: [[1000000000000, 2000000000000, 3000000000000], [2000000000000, 3000000000000, 4000000000000]]\n",
      "Time taken for python list multiplication: 0.00032591819763183594\n"
     ]
    }
   ],
   "source": [
    "import time\n",
    "\n",
    "# np arrry mutiliplication the value\n",
    "# python list make two list of it \n",
    "# lets tke example for copilot \n",
    "# Multiply numpy arrays by 2\n",
    "start_time = time.time()\n",
    "array_1d_multiplied = array_1d * 100000000000\n",
    "array_2d_multiplied = array_2d * 1000000000000\n",
    "end_time = time.time()\n",
    "print(\"Numpy array 1D multiplied by 2:\", array_1d_multiplied)\n",
    "print(\"Numpy array 2D multiplied by 2:\", array_2d_multiplied)\n",
    "print(\"Time taken for numpy array multiplication:\", end_time - start_time)\n",
    "\n",
    "# Multiply python lists by 2\n",
    "python_list_1d = [1, 2, 3, 4, 5]\n",
    "python_list_2d = [[1, 2, 3], [2, 3, 4]]\n",
    "\n",
    "start_time = time.time()\n",
    "python_list_1d_multiplied = [x * 1000000000000 for x in python_list_1d]\n",
    "python_list_2d_multiplied = [[x * 1000000000000 for x in row] for row in python_list_2d]\n",
    "end_time = time.time()\n",
    "print(\"Python list 1D multiplied by 2:\", python_list_1d_multiplied)\n",
    "print(\"Python list 2D multiplied by 2:\", python_list_2d_multiplied)\n",
    "print(\"Time taken for python list multiplication:\", end_time - start_time)\n",
    "\n",
    "# numpy array is faster than python list"
   ]
  },
  {
   "cell_type": "markdown",
   "metadata": {},
   "source": [
    "# creating array from the scratch \n"
   ]
  },
  {
   "cell_type": "code",
   "execution_count": 11,
   "metadata": {},
   "outputs": [
    {
     "name": "stdout",
     "output_type": "stream",
     "text": [
      "[[0. 0. 0.]\n",
      " [0. 0. 0.]\n",
      " [0. 0. 0.]]\n",
      "[[1. 1. 1.]\n",
      " [1. 1. 1.]\n",
      " [1. 1. 1.]]\n",
      "[[5 5 5]\n",
      " [5 5 5]\n",
      " [5 5 5]]\n",
      "[[1. 0. 0.]\n",
      " [0. 1. 0.]\n",
      " [0. 0. 1.]]\n",
      "[[0.34187113 0.44632492 0.59015591]\n",
      " [0.08233724 0.03074711 0.13398533]\n",
      " [0.5106045  0.86624317 0.09764359]]\n",
      "[ 0  8 16 24 32 40 48 56 64 72 80 88 96]\n"
     ]
    }
   ],
   "source": [
    "zeros = np.zeros((3,3))\n",
    "print(zeros)\n",
    "\n",
    "ones = np.ones((3,3))\n",
    "print(ones)\n",
    "\n",
    "full = np.full((3,3), 5)\n",
    "print(full)\n",
    "\n",
    "eye = np.eye(3)\n",
    "print(eye)\n",
    "\n",
    "random = np.random.random((3,3))\n",
    "print(random)\n",
    "\n",
    "sequence = np.arange(0, 100, 8)\n",
    "print(sequence)"
   ]
  },
  {
   "cell_type": "code",
   "execution_count": 12,
   "metadata": {},
   "outputs": [
    {
     "name": "stdout",
     "output_type": "stream",
     "text": [
      "[1 2 3 4 5]\n",
      "[[1 2 3]\n",
      " [4 5 6]\n",
      " [7 8 9]]\n"
     ]
    }
   ],
   "source": [
    "# vector matrix and tensor\n",
    "# vector is 1D array\n",
    "# matrix is 2D array\n",
    "# tensor is 3D array\n",
    "\n",
    "vector = np.array([1,2,3,4,5])\n",
    "print(vector)\n",
    "\n",
    "matrix = np.array([[1,2,3],[4,5,6],[7,8,9]])\n",
    "print(matrix)\n",
    "\n",
    "\n"
   ]
  },
  {
   "cell_type": "code",
   "execution_count": 13,
   "metadata": {},
   "outputs": [
    {
     "name": "stdout",
     "output_type": "stream",
     "text": [
      "[[[  1.      2.    124.254]\n",
      "  [  4.      5.      6.   ]\n",
      "  [  7.      8.      9.   ]]\n",
      "\n",
      " [[  1.      2.      3.   ]\n",
      "  [  4.      5.      6.   ]\n",
      "  [  7.      8.      9.   ]]\n",
      "\n",
      " [[  1.      2.      3.   ]\n",
      "  [  4.      5.      6.   ]\n",
      "  [  7.      8.      9.   ]]]\n",
      "Shape of tensor: (3, 3, 3)\n",
      "Data type of tensor: float64\n",
      "Size of tensor: 27\n",
      "Dimension of tensor: 3\n",
      "Item size of tensor: 8\n",
      "Nbytes of tensor: 216\n"
     ]
    }
   ],
   "source": [
    "# Array properties\n",
    "tensor = np.array([[[1,2,124.254],[4,5,6],[7,8,9]],[[1,2,3],[4,5,6],[7,8,9]],[[1,2,3],[4,5,6],[7,8,9]]])\n",
    "print(tensor)\n",
    "print(\"Shape of tensor:\", tensor.shape)\n",
    "print(\"Data type of tensor:\", tensor.dtype)\n",
    "print(\"Size of tensor:\", tensor.size)\n",
    "print(\"Dimension of tensor:\", tensor.ndim)\n",
    "print(\"Item size of tensor:\", tensor.itemsize)\n",
    "print(\"Nbytes of tensor:\", tensor.nbytes)\n"
   ]
  },
  {
   "cell_type": "code",
   "execution_count": 14,
   "metadata": {},
   "outputs": [
    {
     "name": "stdout",
     "output_type": "stream",
     "text": [
      "Shape of array: (3, 4)\n",
      "[[ 1  2  3  4  5  6]\n",
      " [ 7  8  9 10 11 12]]\n",
      "Shape of reshaped array: (2, 6)\n",
      "[ 1  2  3  4  5  6  7  8  9 10 11 12]\n",
      "[[ 1  2  3  4  5  6]\n",
      " [ 7  8  9 10 11 12]]\n",
      "[ 1  2  3  4  5  6  7  8  9 10 11 12]\n",
      "[[ 1  2  3  4  5  6]\n",
      " [ 7  8  9 10 11 12]]\n"
     ]
    }
   ],
   "source": [
    "# Array reshaping\n",
    "\n",
    "array = np.array([[1,2,3,4],[5,6,7,8],[9,10,11,12]])\n",
    "print(\"Shape of array:\", array.shape)\n",
    "\n",
    "reshaped_array = array.reshape(2,6)\n",
    "print(reshaped_array)\n",
    "print(\"Shape of reshaped array:\", reshaped_array.shape)\n",
    "\n",
    "flattered = reshaped_array.flatten()\n",
    "print(flattered)\n",
    "print(reshaped_array)\n",
    "\n",
    "raveled = reshaped_array.ravel()\n",
    "print(raveled)\n",
    "print(reshaped_array)\n",
    "# ravel and flatten are same but ravel is faster than flatten\n",
    "# flatten is copy of the original array\n",
    "# ravel is view of the original array\n",
    "# generall ravel is used\n",
    "# transpose of the array\n",
    "\n",
    "# array = np.array([[1,2,3,4],[5,6,7,8],[9,10,11,12]])\n",
    "# tranpose = array.T\n",
    "# print(tranpose)"
   ]
  },
  {
   "cell_type": "code",
   "execution_count": null,
   "metadata": {},
   "outputs": [],
   "source": []
  },
  {
   "cell_type": "code",
   "execution_count": null,
   "metadata": {},
   "outputs": [],
   "source": []
  }
 ],
 "metadata": {
  "kernelspec": {
   "display_name": ".venv",
   "language": "python",
   "name": "python3"
  },
  "language_info": {
   "codemirror_mode": {
    "name": "ipython",
    "version": 3
   },
   "file_extension": ".py",
   "mimetype": "text/x-python",
   "name": "python",
   "nbconvert_exporter": "python",
   "pygments_lexer": "ipython3",
   "version": "3.12.3"
  }
 },
 "nbformat": 4,
 "nbformat_minor": 2
}
