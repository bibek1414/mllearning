{
 "cells": [
  {
   "cell_type": "code",
   "execution_count": 10,
   "id": "37d991f9",
   "metadata": {},
   "outputs": [],
   "source": [
    "import torch\n",
    "import time"
   ]
  },
  {
   "cell_type": "code",
   "execution_count": 11,
   "id": "ae561dc6",
   "metadata": {},
   "outputs": [],
   "source": [
    "size = 10000"
   ]
  },
  {
   "cell_type": "code",
   "execution_count": 12,
   "id": "30326528",
   "metadata": {},
   "outputs": [],
   "source": [
    "matriz_cpu1 = torch.randn(size, size)\n",
    "matriz_cpu2 = torch.randn(size, size)"
   ]
  },
  {
   "cell_type": "code",
   "execution_count": 13,
   "id": "6d3721f5",
   "metadata": {},
   "outputs": [
    {
     "name": "stdout",
     "output_type": "stream",
     "text": [
      "CPU time: 7.284574 seconds\n"
     ]
    }
   ],
   "source": [
    "start_time= time.time()\n",
    "result_cpu = torch.matmul(matriz_cpu1, matriz_cpu2)\n",
    "cpu_time = time.time() - start_time\n",
    "\n",
    "print(f\"CPU time: {cpu_time:.6f} seconds\")"
   ]
  },
  {
   "cell_type": "code",
   "execution_count": 14,
   "id": "e6d01e67",
   "metadata": {},
   "outputs": [],
   "source": [
    "matrix_gpu1 = matriz_cpu1.to('cuda')\n",
    "matrix_gpu2 = matriz_cpu2.to('cuda')"
   ]
  },
  {
   "cell_type": "code",
   "execution_count": 15,
   "id": "2400fe1b",
   "metadata": {},
   "outputs": [
    {
     "name": "stdout",
     "output_type": "stream",
     "text": [
      "GPU time: 0.000391 seconds\n"
     ]
    }
   ],
   "source": [
    "start_time = time.time()\n",
    "result_gpu = torch.matmul(matrix_gpu1, matrix_gpu2)\n",
    "gpu_time = time.time() - start_time\n",
    "print(f\"GPU time: {gpu_time:.6f} seconds\")"
   ]
  },
  {
   "cell_type": "code",
   "execution_count": 16,
   "id": "600a5cf9",
   "metadata": {},
   "outputs": [
    {
     "name": "stdout",
     "output_type": "stream",
     "text": [
      "\n",
      "Speedup (CPU time / GPU time): 18607.622411693057\n"
     ]
    }
   ],
   "source": [
    "print(\"\\nSpeedup (CPU time / GPU time):\", cpu_time / gpu_time)"
   ]
  }
 ],
 "metadata": {
  "kernelspec": {
   "display_name": ".venv",
   "language": "python",
   "name": "python3"
  },
  "language_info": {
   "codemirror_mode": {
    "name": "ipython",
    "version": 3
   },
   "file_extension": ".py",
   "mimetype": "text/x-python",
   "name": "python",
   "nbconvert_exporter": "python",
   "pygments_lexer": "ipython3",
   "version": "3.12.3"
  }
 },
 "nbformat": 4,
 "nbformat_minor": 5
}
