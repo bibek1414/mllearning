{
 "cells": [
  {
   "cell_type": "code",
   "execution_count": 1,
   "metadata": {},
   "outputs": [
    {
     "name": "stdout",
     "output_type": "stream",
     "text": [
      "Gaussian Naive Bayes:\n",
      "Accuracy: 0.8633\n",
      "              precision    recall  f1-score   support\n",
      "\n",
      "           0       0.83      0.92      0.87       153\n",
      "           1       0.91      0.80      0.85       147\n",
      "\n",
      "    accuracy                           0.86       300\n",
      "   macro avg       0.87      0.86      0.86       300\n",
      "weighted avg       0.87      0.86      0.86       300\n",
      "\n",
      "\n",
      "Multinomial Naive Bayes (Text Classification):\n"
     ]
    }
   ],
   "source": [
    "import numpy as np\n",
    "import matplotlib.pyplot as plt\n",
    "from sklearn.naive_bayes import GaussianNB, MultinomialNB, BernoulliNB\n",
    "from sklearn.datasets import make_classification, fetch_20newsgroups\n",
    "from sklearn.feature_extraction.text import CountVectorizer, TfidfVectorizer\n",
    "from sklearn.model_selection import train_test_split, cross_val_score\n",
    "from sklearn.metrics import accuracy_score, classification_report, confusion_matrix\n",
    "import seaborn as sns\n",
    "\n",
    "# Example 1: Gaussian Naive Bayes for continuous features\n",
    "X, y = make_classification(n_samples=1000, n_features=20, n_informative=5, \n",
    "                          n_redundant=2, random_state=42)\n",
    "\n",
    "X_train, X_test, y_train, y_test = train_test_split(X, y, test_size=0.3, random_state=42)\n",
    "\n",
    "gnb = GaussianNB()\n",
    "gnb.fit(X_train, y_train)\n",
    "y_pred_gnb = gnb.predict(X_test)\n",
    "\n",
    "print(\"Gaussian Naive Bayes:\")\n",
    "print(f\"Accuracy: {accuracy_score(y_test, y_pred_gnb):.4f}\")\n",
    "print(classification_report(y_test, y_pred_gnb))\n",
    "\n",
    "# Example 2: Text classification with Multinomial Naive Bayes\n",
    "# Load dataset (subset of 20 newsgroups)\n",
    "categories = ['alt.atheism', 'soc.religion.christian', 'comp.graphics', 'sci.med']\n",
    "news_train = fetch_20newsgroups(subset='train', categories=categories, shuffle=True, random_state=42)\n",
    "news_test = fetch_20newsgroups(subset='test', categories=categories, shuffle=True, random_state=42)\n",
    "\n",
    "# Feature extraction with TF-IDF\n",
    "tfidf_vectorizer = TfidfVectorizer(stop_words='english', max_features=5000)\n",
    "X_train_tfidf = tfidf_vectorizer.fit_transform(news_train.data)\n",
    "X_test_tfidf = tfidf_vectorizer.transform(news_test.data)\n",
    "\n",
    "# Train Multinomial Naive Bayes\n",
    "mnb = MultinomialNB(alpha=0.1)  # alpha is the smoothing parameter\n",
    "mnb.fit(X_train_tfidf, news_train.target)\n",
    "y_pred_mnb = mnb.predict(X_test_tfidf)\n",
    "\n",
    "print(\"\\nMultinomial Naive Bayes (Text Classification):\")"
   ]
  }
 ],
 "metadata": {
  "kernelspec": {
   "display_name": ".venv",
   "language": "python",
   "name": "python3"
  },
  "language_info": {
   "codemirror_mode": {
    "name": "ipython",
    "version": 3
   },
   "file_extension": ".py",
   "mimetype": "text/x-python",
   "name": "python",
   "nbconvert_exporter": "python",
   "pygments_lexer": "ipython3",
   "version": "3.12.3"
  }
 },
 "nbformat": 4,
 "nbformat_minor": 2
}
