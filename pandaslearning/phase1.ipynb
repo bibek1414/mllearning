{
 "cells": [
  {
   "cell_type": "markdown",
   "metadata": {},
   "source": [
    "#  Basic Data Structures"
   ]
  },
  {
   "cell_type": "code",
   "execution_count": 4,
   "metadata": {},
   "outputs": [],
   "source": [
    "import pandas as pd\n",
    "import numpy as np\n",
    "import matplotlib.pyplot as plt"
   ]
  },
  {
   "cell_type": "code",
   "execution_count": 7,
   "metadata": {},
   "outputs": [
    {
     "name": "stdout",
     "output_type": "stream",
     "text": [
      "0    1.0\n",
      "1    3.0\n",
      "2    5.0\n",
      "3    NaN\n",
      "4    6.0\n",
      "5    8.0\n",
      "dtype: float64\n"
     ]
    }
   ],
   "source": [
    "s = pd.Series([1, 3, 5, np.nan, 6, 8])\n",
    "print(s)"
   ]
  },
  {
   "cell_type": "code",
   "execution_count": 9,
   "metadata": {},
   "outputs": [
    {
     "name": "stdout",
     "output_type": "stream",
     "text": [
      "a    1\n",
      "b    3\n",
      "c    5\n",
      "d    7\n",
      "dtype: int64\n"
     ]
    }
   ],
   "source": [
    "s = pd.Series([1, 3, 5, 7], index=['a', 'b', 'c', 'd'])\n",
    "print(s)"
   ]
  },
  {
   "cell_type": "code",
   "execution_count": 12,
   "metadata": {},
   "outputs": [
    {
     "name": "stdout",
     "output_type": "stream",
     "text": [
      "a    1\n",
      "b    2\n",
      "c    3\n",
      "dtype: int64\n"
     ]
    }
   ],
   "source": [
    "\n",
    "# From a dictionary\n",
    "d = {'a': 1, 'b': 2, 'c': 3}\n",
    "s = pd.Series(d)\n",
    "print(s)"
   ]
  },
  {
   "cell_type": "code",
   "execution_count": 14,
   "metadata": {},
   "outputs": [
    {
     "name": "stdout",
     "output_type": "stream",
     "text": [
      "a    5\n",
      "b    5\n",
      "c    5\n",
      "dtype: int64\n"
     ]
    }
   ],
   "source": [
    "\n",
    "\n",
    "# With a scalar value\n",
    "s = pd.Series(5, index=['a', 'b', 'c'])\n",
    "print(s)"
   ]
  },
  {
   "cell_type": "code",
   "execution_count": 16,
   "metadata": {},
   "outputs": [
    {
     "name": "stdout",
     "output_type": "stream",
     "text": [
      "   col1  col2\n",
      "0     1     4\n",
      "1     2     5\n",
      "2     3     6\n",
      "    Name  Age      City\n",
      "0   John   28  New York\n",
      "1   Anna   34     Paris\n",
      "2  Peter   29    Berlin\n",
      "3  Linda   42    London\n",
      "    Name  Age\n",
      "a   John   28\n",
      "b   Anna   34\n",
      "c  Peter   29\n",
      "d  Linda   42\n",
      "   a   b     c\n",
      "0  1   2   NaN\n",
      "1  5  10  20.0\n",
      "          A         B         C\n",
      "0 -1.585783 -0.935098 -0.327775\n",
      "1 -0.308338  0.184018 -1.130936\n",
      "2 -2.609700 -0.113127  1.021855\n",
      "3  1.767210 -1.624709 -0.008958\n"
     ]
    }
   ],
   "source": [
    "# From a dictionary of Series\n",
    "d = {'col1': pd.Series([1, 2, 3]), \n",
    "     'col2': pd.Series([4, 5, 6])}\n",
    "df = pd.DataFrame(d)\n",
    "print(df)\n",
    "\n",
    "# From a dictionary of lists\n",
    "data = {'Name': ['John', 'Anna', 'Peter', 'Linda'],\n",
    "        'Age': [28, 34, 29, 42],\n",
    "        'City': ['New York', 'Paris', 'Berlin', 'London']}\n",
    "df = pd.DataFrame(data)\n",
    "print(df)\n",
    "\n",
    "\n",
    "# With specific columns and index\n",
    "df = pd.DataFrame(data, columns=['Name', 'Age'], index=['a', 'b', 'c', 'd'])\n",
    "print(df)\n",
    "\n",
    "# From a list of dictionaries\n",
    "data = [{'a': 1, 'b': 2}, {'a': 5, 'b': 10, 'c': 20}]\n",
    "df = pd.DataFrame(data)\n",
    "print(df)\n",
    "\n",
    "# From a NumPy array\n",
    "arr = np.random.randn(4, 3)\n",
    "df = pd.DataFrame(arr, columns=['A', 'B', 'C'])\n",
    "print(df)"
   ]
  },
  {
   "cell_type": "code",
   "execution_count": 22,
   "metadata": {},
   "outputs": [
    {
     "name": "stdout",
     "output_type": "stream",
     "text": [
      "          A         B         C\n",
      "0 -0.058097  0.761300  1.045502\n",
      "1  0.591813  0.609975 -0.345646\n",
      "2 -1.105658 -0.731811 -2.019276\n",
      "3  0.338289  1.188959  0.835259\n",
      "              A         B         C\n",
      "count  4.000000  4.000000  4.000000\n",
      "mean  -0.058413  0.457106 -0.121040\n",
      "std    0.747638  0.829666  1.405830\n",
      "min   -1.105658 -0.731811 -2.019276\n",
      "25%   -0.319987  0.274528 -0.764054\n",
      "50%    0.140096  0.685637  0.244806\n",
      "75%    0.401670  0.868215  0.887819\n",
      "max    0.591813  1.188959  1.045502\n"
     ]
    }
   ],
   "source": [
    "arr = np.random.randn(4, 3)\n",
    "df = pd.DataFrame(arr, columns=['A', 'B', 'C'])\n",
    "print(df)\n",
    "print (df.describe())"
   ]
  },
  {
   "cell_type": "code",
   "execution_count": null,
   "metadata": {},
   "outputs": [
    {
     "name": "stdout",
     "output_type": "stream",
     "text": [
      "    Name  Age      City  Salary\n",
      "0   John   28  New York   50000\n",
      "1   Anna   34     Paris   60000\n",
      "2  Peter   29    Berlin   55000\n",
      "3  Linda   42    London   70000\n",
      "0    28\n",
      "1    34\n",
      "2    29\n",
      "3    42\n",
      "Name: Age, dtype: int64\n",
      "    Name  Salary\n",
      "0   John   50000\n",
      "1   Anna   60000\n",
      "2  Peter   55000\n",
      "3  Linda   70000\n",
      "used iloc here Name       Peter\n",
      "Age           29\n",
      "City      Berlin\n",
      "Salary     55000\n",
      "Name: 2, dtype: object\n",
      "    Name  Age\n",
      "1   Anna   34\n",
      "2  Peter   29\n",
      "Name       Peter\n",
      "Age           29\n",
      "City      Berlin\n",
      "Salary     55000\n",
      "Name: 2, dtype: object\n",
      "Age           29\n",
      "City      Berlin\n",
      "Salary     55000\n",
      "Name: Peter, dtype: object\n",
      "       Age    City  Salary\n",
      "Name                      \n",
      "Anna    34   Paris   60000\n",
      "Linda   42  London   70000\n",
      "       Age    City  Salary\n",
      "Name                      \n",
      "Linda   42  London   70000\n"
     ]
    }
   ],
   "source": [
    "# Sample DataFrame\n",
    "data = {\n",
    "    'Name': ['John', 'Anna', 'Peter', 'Linda'],\n",
    "    'Age': [28, 34, 29, 42],\n",
    "    'City': ['New York', 'Paris', 'Berlin', 'London'],\n",
    "    'Salary': [50000, 60000, 55000, 70000]\n",
    "}\n",
    "df = pd.DataFrame(data)\n",
    "print(df)\n",
    "# Select a single column (returns Series)\n",
    "ages = df['Age']\n",
    "print(ages)\n",
    "\n",
    "# Select multiple columns (returns DataFrame)\n",
    "subset = df[['Name', 'Salary']]\n",
    "print(subset)\n",
    "\n",
    "# Select rows by position using iloc\n",
    "first_row = df.iloc[0]  # First row\n",
    "print(first_row)\n",
    "\n",
    "specific_cells = df.iloc[1:3, 0:2]  # Rows 1-2, columns 0-1\n",
    "print(specific_cells)\n",
    "\n",
    "# Select rows and columns by label using loc\n",
    "row_by_index = df.loc[2]  # Row with index 2\n",
    "print(row_by_index)\n",
    "\n",
    "# If you set a custom index\n",
    "df.set_index('Name', inplace=True)\n",
    "peter_data = df.loc['Peter']\n",
    "print(peter_data)\n",
    "\n",
    "# Filtering with boolean conditions\n",
    "adults = df[df['Age'] > 30]\n",
    "print(adults)\n",
    "\n",
    "high_salary_london = df[(df['Salary'] > 60000) & (df['City'] == 'London')]\n",
    "print(high_salary_london)"
   ]
  },
  {
   "cell_type": "code",
   "execution_count": 12,
   "metadata": {},
   "outputs": [
    {
     "name": "stdout",
     "output_type": "stream",
     "text": [
      "    Name  Age      City  Salary  Experience\n",
      "0   John   28  New York   50000           3\n",
      "1   Anna   34     Paris   60000           8\n",
      "2  Peter   29    Berlin   55000           5\n",
      "3  Linda   42    London   70000          15\n",
      "    Name  Age      City  Salary  Experience\n",
      "0   John   29  New York   50000           3\n",
      "1   Anna   34     Paris   60000           8\n",
      "2  Peter   29    Berlin   55000           5\n",
      "3  Linda   42    London   70000          15\n",
      "    Name  Age      City  Salary  Experience\n",
      "0   John   29  New York   50000           3\n",
      "1   Anna   34     Paris   65000           8\n",
      "2  Peter   29    Berlin   55000           5\n",
      "3  Linda   42    London   70000          15\n",
      "    Name  Age      City  Salary  Experience\n",
      "0   John   29  New York   50000           3\n",
      "1   Anna   34     Paris   71500           8\n",
      "2  Peter   29    Berlin   55000           5\n",
      "3  Linda   42    London   77000          15\n",
      "df without city      Name  Age  Salary  Experience\n",
      "0   John   29   50000           3\n",
      "1   Anna   34   71500           8\n",
      "2  Peter   29   55000           5\n",
      "3  Linda   42   77000          15\n",
      "drop experience axis 1     Name  Age      City  Salary\n",
      "0   John   29  New York   50000\n",
      "1   Anna   34     Paris   71500\n",
      "2  Peter   29    Berlin   55000\n",
      "3  Linda   42    London   77000\n",
      "    Name  Age    City  Salary\n",
      "1   Anna   34   Paris   71500\n",
      "2  Peter   29  Berlin   55000\n",
      "3  Linda   42  London   77000\n",
      "   index   Name  Age      City  Salary\n",
      "0      0   John   29  New York   50000\n",
      "1      1   Anna   34     Paris   71500\n",
      "2      2  Peter   29    Berlin   55000\n",
      "3      3  Linda   42    London   77000\n"
     ]
    }
   ],
   "source": [
    "data = {\n",
    "    'Name': ['John', 'Anna', 'Peter', 'Linda'],\n",
    "    'Age': [28, 34, 29, 42],\n",
    "    'City': ['New York', 'Paris', 'Berlin', 'London'],\n",
    "    'Salary': [50000, 60000, 55000, 70000]\n",
    "}\n",
    "df = pd.DataFrame(data)\n",
    "# Add a new column\n",
    "df['Experience'] = [3, 8, 5, 15]\n",
    "print(df)\n",
    "\n",
    "#Aternative way to add a column\n",
    "# df.insert(1, 'Department', ['HR', 'Finance', 'Engineering', 'Marketing'])\n",
    "# print(df)\n",
    "\n",
    "# Update a value\n",
    "df.at[0, 'Age'] = 29\n",
    "print(df)\n",
    "\n",
    "# Update multiple values with loc\n",
    "df.loc[1, 'Salary'] = 65000\n",
    "print(df)\n",
    "\n",
    "# Update based on a condition\n",
    "df.loc[df['Age'] > 30, 'Salary'] *= 1.1  # 10% raise for people over 30\n",
    "print(df)\n",
    "\n",
    "# Delete a column\n",
    "df_without_city = df.drop('City', axis=1)\n",
    "print(\"df without city \", df_without_city)\n",
    "\n",
    "# Delete a column in-place\n",
    "df.drop('Experience', axis=1, inplace=True)\n",
    "print(\"drop experience axis 1\",df)\n",
    "\n",
    "# Delete rows\n",
    "df_without_first = df.drop(0)  # Drop first row\n",
    "print(df_without_first)\n",
    "\n",
    "# Delete rows by index labels\n",
    "# df.drop(['John', 'Anna'], inplace=True)\n",
    "# print(df)\n",
    "\n",
    "# Reset index\n",
    "df_reset = df.reset_index()\n",
    "print(df_reset)"
   ]
  },
  {
   "cell_type": "code",
   "execution_count": null,
   "metadata": {},
   "outputs": [],
   "source": []
  },
  {
   "cell_type": "code",
   "execution_count": 13,
   "metadata": {},
   "outputs": [
    {
     "name": "stdout",
     "output_type": "stream",
     "text": [
      "    Name  Age      City  Salary\n",
      "0   John   29  New York   50000\n",
      "2  Peter   29    Berlin   55000\n",
      "1   Anna   34     Paris   71500\n",
      "3  Linda   42    London   77000\n",
      "    Name  Age      City  Salary\n",
      "2  Peter   29    Berlin   55000\n",
      "3  Linda   42    London   77000\n",
      "0   John   29  New York   50000\n",
      "1   Anna   34     Paris   71500\n",
      "    Name  Age      City  Salary\n",
      "0   John   29  New York   50000\n",
      "1   Anna   34     Paris   71500\n",
      "2  Peter   29    Berlin   55000\n",
      "3  Linda   42    London   77000\n",
      "0    29\n",
      "2    29\n",
      "1    34\n",
      "3    42\n",
      "Name: Age, dtype: int64\n"
     ]
    }
   ],
   "source": [
    "# Sort by values in a column\n",
    "df_sorted_age = df.sort_values('Age')\n",
    "print(df_sorted_age)\n",
    "\n",
    "# Sort by multiple columns\n",
    "df_sorted_multiple = df.sort_values(['City', 'Salary'], ascending=[True, False])\n",
    "print(df_sorted_multiple)\n",
    "\n",
    "# Sort by index\n",
    "df_sorted_index = df.sort_index()\n",
    "print(df_sorted_index)\n",
    "\n",
    "# Sort a Series\n",
    "ages_sorted = df['Age'].sort_values()\n",
    "print(ages_sorted)"
   ]
  }
 ],
 "metadata": {
  "kernelspec": {
   "display_name": ".venv",
   "language": "python",
   "name": "python3"
  },
  "language_info": {
   "codemirror_mode": {
    "name": "ipython",
    "version": 3
   },
   "file_extension": ".py",
   "mimetype": "text/x-python",
   "name": "python",
   "nbconvert_exporter": "python",
   "pygments_lexer": "ipython3",
   "version": "3.12.3"
  }
 },
 "nbformat": 4,
 "nbformat_minor": 2
}
