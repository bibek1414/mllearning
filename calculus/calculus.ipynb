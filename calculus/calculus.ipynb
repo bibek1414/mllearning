{
 "cells": [
  {
   "cell_type": "markdown",
   "id": "183adf28",
   "metadata": {
    "vscode": {
     "languageId": "plaintext"
    }
   },
   "source": [
    "#  The Essence of calculus"
   ]
  },
  {
   "cell_type": "markdown",
   "id": "7920bc66",
   "metadata": {},
   "source": []
  }
 ],
 "metadata": {
  "language_info": {
   "name": "python"
  }
 },
 "nbformat": 4,
 "nbformat_minor": 5
}
