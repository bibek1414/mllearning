{
 "cells": [
  {
   "cell_type": "markdown",
   "metadata": {},
   "source": [
    "### simple numpy \n"
   ]
  },
  {
   "cell_type": "code",
   "execution_count": 2,
   "metadata": {},
   "outputs": [
    {
     "name": "stdout",
     "output_type": "stream",
     "text": [
      "[1 2 3 4 5]\n",
      "<class 'numpy.ndarray'>\n"
     ]
    }
   ],
   "source": [
    "import numpy as np\n",
    "\n",
    "# A simple NumPy array\n",
    "arr = np.array([1, 2, 3, 4, 5])\n",
    "print(arr)\n",
    "print(type(arr))"
   ]
  },
  {
   "cell_type": "code",
   "execution_count": 3,
   "metadata": {},
   "outputs": [
    {
     "name": "stdout",
     "output_type": "stream",
     "text": [
      "Size of list: 88 bytes\n",
      "Size of array: 40 bytes\n",
      "List operation time: 0.00007796 seconds\n",
      "Array operation time: 0.00005913 seconds\n",
      "NumPy is 1.3x faster\n"
     ]
    }
   ],
   "source": [
    "# Python list\n",
    "py_list = [1, 2, 3, 4, 5]\n",
    "\n",
    "# NumPy array\n",
    "np_array = np.array(py_list)\n",
    "\n",
    "# Memory usage\n",
    "print(f\"Size of list: {py_list.__sizeof__()} bytes\")\n",
    "print(f\"Size of array: {np_array.nbytes} bytes\")\n",
    "\n",
    "# Performance comparison\n",
    "import time\n",
    "\n",
    "# List operations\n",
    "start = time.time()\n",
    "result_list = [x**2 for x in py_list]\n",
    "list_time = time.time() - start\n",
    "\n",
    "# NumPy operations\n",
    "start = time.time()\n",
    "result_array = np_array**2\n",
    "array_time = time.time() - start\n",
    "\n",
    "print(f\"List operation time: {list_time:.8f} seconds\")\n",
    "print(f\"Array operation time: {array_time:.8f} seconds\")\n",
    "print(f\"NumPy is {list_time/array_time:.1f}x faster\")"
   ]
  },
  {
   "cell_type": "code",
   "execution_count": 21,
   "metadata": {},
   "outputs": [
    {
     "name": "stdout",
     "output_type": "stream",
     "text": [
      "Random array:\n",
      "[[0.79705988 0.6109939  0.85859824]\n",
      " [0.68206383 0.90118912 0.3052211 ]]\n",
      "Random integers:\n",
      "[[4 6 9]\n",
      " [6 1 7]\n",
      " [1 9 7]]\n",
      "Normal distribution:\n",
      "[[ 2.80184109  3.14399385  1.90585625]\n",
      " [-0.37489818  0.63611519  0.23162854]]\n"
     ]
    }
   ],
   "source": [
    "# Random floats between 0 and 1\n",
    "rand_array = np.random.random((2, 3))\n",
    "print(f\"Random array:\\n{rand_array}\")\n",
    "\n",
    "# Random integers\n",
    "rand_ints = np.random.randint(0, 10, size=(3, 3))\n",
    "print(f\"Random integers:\\n{rand_ints}\")\n",
    "\n",
    "# Normal distribution\n",
    "normal_dist = np.random.normal(0, 2, size=(2, 3))  # mean=0, std=1\n",
    "print(f\"Normal distribution:\\n{normal_dist}\")"
   ]
  },
  {
   "cell_type": "code",
   "execution_count": 22,
   "metadata": {},
   "outputs": [
    {
     "name": "stdout",
     "output_type": "stream",
     "text": [
      "First element: 10\n",
      "Last element: 50\n",
      "Element at row 1, col 2: 6\n",
      "Last row: [7 8 9]\n"
     ]
    }
   ],
   "source": [
    "# 1D array indexing\n",
    "arr = np.array([10, 20, 30, 40, 50])\n",
    "print(f\"First element: {arr[0]}\")\n",
    "print(f\"Last element: {arr[-1]}\")\n",
    "\n",
    "# 2D array indexing (rows, columns)\n",
    "matrix = np.array([[1, 2, 3], [4, 5, 6], [7, 8, 9]])\n",
    "print(f\"Element at row 1, col 2: {matrix[1, 2]}\")  # Row 1, Column 2\n",
    "print(f\"Last row: {matrix[-1]}\")"
   ]
  },
  {
   "cell_type": "code",
   "execution_count": 24,
   "metadata": {},
   "outputs": [
    {
     "name": "stdout",
     "output_type": "stream",
     "text": [
      "Elements from index 2 to 5: [2 3 4 5]\n",
      "Elements from beginning to index 4: [0 1 2 3 4]\n",
      "Elements from index 6 to end: [6 7 8 9]\n",
      "Every second element: [0 2 4 6 8]\n",
      "Reversed array: [9 8 7 6 5 4 3 2 1 0]\n",
      "First 2 rows, columns 1 to 3:\n",
      "[[2 3]\n",
      " [6 7]]\n",
      "Last 2 rows, last 2 columns:\n",
      "[[ 7  8]\n",
      " [11 12]]\n",
      "All rows, last column: [ 4  8 12]\n"
     ]
    }
   ],
   "source": [
    "# 1D slicing\n",
    "arr = np.array([0, 1, 2, 3, 4, 5, 6, 7, 8, 9])\n",
    "print(f\"Elements from index 2 to 5: {arr[2:6]}\")\n",
    "print(f\"Elements from beginning to index 4: {arr[:5]}\")\n",
    "print(f\"Elements from index 6 to end: {arr[6:]}\")\n",
    "print(f\"Every second element: {arr[::2]}\")\n",
    "print(f\"Reversed array: {arr[::-1]}\")\n",
    "\n",
    "# 2D slicing\n",
    "matrix = np.array([[1, 2, 3, 4], [5, 6, 7, 8], [9, 10, 11, 12]])\n",
    "print(f\"First 2 rows, columns 1 to 3:\\n{matrix[:2, 1:3]}\")\n",
    "print(f\"Last 2 rows, last 2 columns:\\n{matrix[-2:, -2:]}\")\n",
    "print(f\"All rows, last column: {matrix[:, -1]}\")"
   ]
  },
  {
   "cell_type": "code",
   "execution_count": 25,
   "metadata": {},
   "outputs": [
    {
     "name": "stdout",
     "output_type": "stream",
     "text": [
      "Elements at indices 1, 3, 5: [20 40 60]\n",
      "Corner elements:\n",
      "[[1 3]\n",
      " [7 9]]\n",
      "Modified array: [100 100 100   3   4   5   6   7   8   9]\n"
     ]
    }
   ],
   "source": [
    "# Selecting specific elements with index arrays\n",
    "arr = np.array([10, 20, 30, 40, 50, 60, 70, 80, 90])\n",
    "indices = np.array([1, 3, 5])\n",
    "print(f\"Elements at indices 1, 3, 5: {arr[indices]}\")\n",
    "\n",
    "# 2D fancy indexing\n",
    "matrix = np.array([[1, 2, 3], [4, 5, 6], [7, 8, 9]])\n",
    "row_indices = np.array([0, 2])\n",
    "col_indices = np.array([0, 2])\n",
    "print(f\"Corner elements:\\n{matrix[row_indices[:, np.newaxis], col_indices]}\")\n",
    "\n",
    "# Modifying with fancy indexing\n",
    "arr = np.array([0, 1, 2, 3, 4, 5, 6, 7, 8, 9])\n",
    "arr[[0, 1, 2]] = 100\n",
    "print(f\"Modified array: {arr}\")"
   ]
  },
  {
   "cell_type": "code",
   "execution_count": 26,
   "metadata": {},
   "outputs": [
    {
     "name": "stdout",
     "output_type": "stream",
     "text": [
      "Mask for even numbers: [False  True False  True False  True False  True False  True]\n",
      "Even numbers: [ 2  4  6  8 10]\n",
      "Odd numbers: [1 3 5 7 9]\n"
     ]
    }
   ],
   "source": [
    "arr = np.array([1, 2, 3, 4, 5, 6, 7, 8, 9, 10])\n",
    "\n",
    "# Create a mask for even numbers\n",
    "mask = arr % 2 == 0\n",
    "print(f\"Mask for even numbers: {mask}\")\n",
    "\n",
    "# Use the mask to filter the array\n",
    "evens = arr[mask]\n",
    "print(f\"Even numbers: {evens}\")\n",
    "\n",
    "# One-liner\n",
    "odds = arr[arr % 2 != 0]\n",
    "print(f\"Odd numbers: {odds}\")"
   ]
  },
  {
   "cell_type": "code",
   "execution_count": 27,
   "metadata": {},
   "outputs": [
    {
     "name": "stdout",
     "output_type": "stream",
     "text": [
      "Days where all cities had temperatures above 15°C: [4 5]\n",
      "Cities with average temperature above 20°C: [1 2]\n",
      "Temperature data after capping:\n",
      " [[12 15 13 14 16 17 15]\n",
      " [21 19 20 22 24 23 21]\n",
      " [30 30 29 29 28 30 30]]\n"
     ]
    }
   ],
   "source": [
    "# Weather data (temperatures for a week in Celsius)\n",
    "temperatures = np.array([\n",
    "    [12, 15, 13, 14, 16, 17, 15],  # City 1\n",
    "    [21, 19, 20, 22, 24, 23, 21],  # City 2\n",
    "    [30, 31, 29, 29, 28, 30, 31]   # City 3\n",
    "])\n",
    "\n",
    "# Find days where all cities had temperatures above 15°C\n",
    "mask = np.all(temperatures > 15, axis=0)\n",
    "print(f\"Days where all cities had temperatures above 15°C: {np.where(mask)[0]}\")\n",
    "\n",
    "# Find cities where the average temperature was above 20°C\n",
    "mask = np.mean(temperatures, axis=1) > 20\n",
    "print(f\"Cities with average temperature above 20°C: {np.where(mask)[0]}\")\n",
    "\n",
    "# Replace all temperatures above 30°C with 30 (temperature capping)\n",
    "temperatures[temperatures > 30] = 30\n",
    "print(\"Temperature data after capping:\\n\", temperatures)"
   ]
  },
  {
   "cell_type": "markdown",
   "metadata": {},
   "source": [
    "# Adding and removing data"
   ]
  },
  {
   "cell_type": "code",
   "execution_count": 36,
   "metadata": {},
   "outputs": [
    {
     "name": "stdout",
     "output_type": "stream",
     "text": [
      "[2 3 4 5 6 2 3 4 5 6 5 6 7 8 9 5 3 4]\n"
     ]
    }
   ],
   "source": [
    "arr1 = np.array([2, 3, 4, 5, 6])\n",
    "arr2 = np.array([2, 3, 4, 5, 6, 5, 6, 7, 8, 9, 5, 3, 4])\n",
    "\n",
    "combined = np.concatenate((arr1, arr2))\n",
    "print(combined)"
   ]
  },
  {
   "cell_type": "code",
   "execution_count": 44,
   "metadata": {},
   "outputs": [
    {
     "name": "stdout",
     "output_type": "stream",
     "text": [
      "After adding a new row using vstack:\n",
      " [[ 1  2  3]\n",
      " [ 4  5  6]\n",
      " [ 7  8  9]\n",
      " [10 11 12]]\n",
      "After adding another row using vstack:\n",
      " [[ 1  2  3]\n",
      " [ 4  5  6]\n",
      " [ 7  8  9]\n",
      " [10 11 12]\n",
      " [13 14 15]]\n"
     ]
    }
   ],
   "source": [
    "# Adding rows using vstack\n",
    "new_row = np.array([10, 11, 12])\n",
    "vstack_result = np.vstack((matrix, new_row))\n",
    "print(\"After adding a new row using vstack:\\n\", vstack_result)\n",
    "\n",
    "# Another example of vstack\n",
    "another_row = np.array([13, 14, 15])\n",
    "vstack_result_2 = np.vstack((vstack_result, another_row))\n",
    "print(\"After adding another row using vstack:\\n\", vstack_result_2)\n"
   ]
  },
  {
   "cell_type": "markdown",
   "metadata": {},
   "source": [
    "## delete\n"
   ]
  },
  {
   "cell_type": "code",
   "execution_count": 46,
   "metadata": {},
   "outputs": [
    {
     "name": "stdout",
     "output_type": "stream",
     "text": [
      " Array after deletion  [4 5 6 7 8 9]\n"
     ]
    }
   ],
   "source": [
    "arr = np.array([1, 2, 3, 4, 5, 6, 7, 8, 9])\n",
    "deleted = np.delete(arr, [0, 1, 2])\n",
    "print(\" Array after deletion \",deleted)\n",
    "\n"
   ]
  }
 ],
 "metadata": {
  "kernelspec": {
   "display_name": ".venv",
   "language": "python",
   "name": "python3"
  },
  "language_info": {
   "codemirror_mode": {
    "name": "ipython",
    "version": 3
   },
   "file_extension": ".py",
   "mimetype": "text/x-python",
   "name": "python",
   "nbconvert_exporter": "python",
   "pygments_lexer": "ipython3",
   "version": "3.12.3"
  }
 },
 "nbformat": 4,
 "nbformat_minor": 2
}
